{
 "cells": [
  {
   "cell_type": "markdown",
   "id": "31c48604",
   "metadata": {},
   "source": [
    "# EDA "
   ]
  }
 ],
 "metadata": {
  "language_info": {
   "name": "python"
  }
 },
 "nbformat": 4,
 "nbformat_minor": 5
}
