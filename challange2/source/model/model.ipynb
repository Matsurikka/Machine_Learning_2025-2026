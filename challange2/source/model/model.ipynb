{
 "cells": [
  {
   "cell_type": "markdown",
   "id": "f3c56b69",
   "metadata": {},
   "source": [
    "# Đây là nơi để test các model và đưa ra kết quả cho từng model, tổng hợp toàn bộ chúng vào file submission để submit lên Kaggle nhằm kiểm chứng chi tiết từng model"
   ]
  },
  {
   "cell_type": "markdown",
   "id": "7b441441",
   "metadata": {},
   "source": [
    "## Khai báo thư viện:\n"
   ]
  },
  {
   "cell_type": "code",
   "execution_count": 47,
   "id": "b5373207",
   "metadata": {},
   "outputs": [],
   "source": [
    "import pandas as pd\n",
    "import numpy as np\n",
    "from sklearn.model_selection import KFold\n",
    "from sklearn.linear_model import LinearRegression, Ridge, Lasso, ElasticNet\n",
    "from sklearn.ensemble import RandomForestRegressor, GradientBoostingRegressor\n",
    "from sklearn.metrics import mean_squared_error\n",
    "from xgboost import XGBRegressor\n",
    "import os"
   ]
  },
  {
   "cell_type": "markdown",
   "id": "cc076401",
   "metadata": {},
   "source": [
    "## Đọc file"
   ]
  },
  {
   "cell_type": "code",
   "execution_count": 48,
   "id": "5cc43189",
   "metadata": {},
   "outputs": [],
   "source": [
    "\n",
    "train = pd.read_csv(r\"C:\\\\Users\\\\hienm\\\\OneDrive\\\\Desktop\\\\Machine_Learning_2025-2026\\\\challange2\\\\data_afterfix\\\\train_featured.csv\")\n",
    "test = pd.read_csv(r\"C:\\\\Users\\\\hienm\\\\OneDrive\\\\Desktop\\\\Machine_Learning_2025-2026\\\\challange2\\\\data_afterfix\\\\test_ready_for_model.csv\")\n",
    "test['Id'] = test['Id'].astype(int)\n"
   ]
  },
  {
   "cell_type": "markdown",
   "id": "216bf7fa",
   "metadata": {},
   "source": [
    "## Chia dữ liệu:"
   ]
  },
  {
   "cell_type": "code",
   "execution_count": 49,
   "id": "1cf80a4a",
   "metadata": {},
   "outputs": [
    {
     "name": "stdout",
     "output_type": "stream",
     "text": [
      " Dữ liệu sẵn sàng cho modeling!\n"
     ]
    }
   ],
   "source": [
    "\n",
    "X = train.drop([\"SalePrice\", \"SalePrice_log\"], axis=1, errors='ignore')\n",
    "y = np.log1p(train[\"SalePrice\"])  # Kaggle chấm theo log(SalePrice)\n",
    "X_test = test[X.columns]\n",
    "\n",
    "print(\" Dữ liệu sẵn sàng cho modeling!\")"
   ]
  },
  {
   "cell_type": "markdown",
   "id": "9ecb3a21",
   "metadata": {},
   "source": [
    "## K-Fold"
   ]
  },
  {
   "cell_type": "code",
   "execution_count": 50,
   "id": "01889a3f",
   "metadata": {},
   "outputs": [],
   "source": [
    "sub_dir = r\"C:\\Users\\hienm\\OneDrive\\Desktop\\Machine_Learning_2025-2026\\challange2\\submission\"\n",
    "os.makedirs(sub_dir, exist_ok=True)\n",
    "\n",
    "def run_model(model, model_name, X, y, X_test, n_splits=5):\n",
    "    kf = KFold(n_splits=n_splits, shuffle=True, random_state=42)\n",
    "    oof_preds = np.zeros(len(X))\n",
    "    test_preds = np.zeros(len(X_test))\n",
    "    \n",
    "    print(f\"\\n=== {model_name.upper()} ===\")\n",
    "    for fold, (train_idx, val_idx) in enumerate(kf.split(X)):\n",
    "        X_tr, X_val = X.iloc[train_idx], X.iloc[val_idx]\n",
    "        y_tr, y_val = y.iloc[train_idx], y.iloc[val_idx]\n",
    "\n",
    "        model.fit(X_tr, y_tr)\n",
    "        val_pred = model.predict(X_val)\n",
    "        oof_preds[val_idx] = val_pred\n",
    "        test_preds += model.predict(X_test) / n_splits\n",
    "\n",
    "        rmse = np.sqrt(mean_squared_error(y_val, val_pred))\n",
    "        print(f\"Fold {fold+1}: RMSE = {rmse:.5f}\")\n",
    "\n",
    "    cv_rmse = np.sqrt(mean_squared_error(y, oof_preds))\n",
    "    print(f\"→ {model_name} CV RMSE = {cv_rmse:.5f}\")\n",
    "\n",
    "    # --- Chuyển log về giá trị thật ---\n",
    "    test_preds = np.expm1(test_preds)\n",
    "\n",
    "    # --- Xử lý vô cực / NaN ---\n",
    "    test_preds = np.where(np.isfinite(test_preds), test_preds, np.nan)\n",
    "    test_preds = np.nan_to_num(test_preds, nan=np.nanmedian(test_preds))\n",
    "    test_preds = np.clip(test_preds, 0, np.nanpercentile(test_preds, 99.5))\n",
    "\n",
    "    # --- Xuất file submission ---\n",
    "    submission = pd.DataFrame({\n",
    "    'Id': test['Id'].astype(int),   # 🔧 ép kiểu về int\n",
    "    'SalePrice': test_preds\n",
    "})\n",
    "    out_path = os.path.join(sub_dir, f\"submission_{model_name.lower()}.csv\")\n",
    "    submission.to_csv(out_path, index=False)\n",
    "    print(f\"✅ Saved submission: {out_path}\\n\")\n",
    "    return cv_rmse"
   ]
  },
  {
   "cell_type": "markdown",
   "id": "becf5801",
   "metadata": {},
   "source": [
    "## LinearRegression"
   ]
  },
  {
   "cell_type": "code",
   "execution_count": 51,
   "id": "98262e89",
   "metadata": {},
   "outputs": [
    {
     "name": "stdout",
     "output_type": "stream",
     "text": [
      "\n",
      "=== LINEAR ===\n",
      "Fold 1: RMSE = 0.10302\n",
      "Fold 2: RMSE = 0.12927\n",
      "Fold 3: RMSE = 0.13729\n",
      "Fold 4: RMSE = 0.10237\n",
      "Fold 5: RMSE = 0.11703\n",
      "→ Linear CV RMSE = 0.11860\n",
      "✅ Saved submission: C:\\Users\\hienm\\OneDrive\\Desktop\\Machine_Learning_2025-2026\\challange2\\submission\\submission_linear.csv\n",
      "\n"
     ]
    },
    {
     "data": {
      "text/plain": [
       "np.float64(0.11860028613208361)"
      ]
     },
     "execution_count": 51,
     "metadata": {},
     "output_type": "execute_result"
    }
   ],
   "source": [
    "# Drop any remaining object (string) columns\n",
    "X_numeric = X.select_dtypes(exclude=['object'])\n",
    "X_test_numeric = X_test.select_dtypes(exclude=['object'])\n",
    "\n",
    "# Make sure both dataframes have the same columns\n",
    "common_cols = set(X_numeric.columns) & set(X_test_numeric.columns)\n",
    "X_numeric = X_numeric[list(common_cols)]\n",
    "X_test_numeric = X_test_numeric[list(common_cols)]\n",
    "\n",
    "linear_model = LinearRegression()\n",
    "run_model(linear_model, \"Linear\", X_numeric, y, X_test_numeric)\n"
   ]
  },
  {
   "cell_type": "markdown",
   "id": "bd699bc3",
   "metadata": {},
   "source": [
    "## RandomForest"
   ]
  },
  {
   "cell_type": "code",
   "execution_count": 52,
   "id": "d91d0eba",
   "metadata": {},
   "outputs": [
    {
     "name": "stdout",
     "output_type": "stream",
     "text": [
      "\n",
      "=== RANDOMFOREST ===\n",
      "Fold 1: RMSE = 0.12898\n",
      "Fold 2: RMSE = 0.13058\n",
      "Fold 3: RMSE = 0.16206\n",
      "Fold 4: RMSE = 0.09660\n",
      "Fold 5: RMSE = 0.13464\n",
      "→ RandomForest CV RMSE = 0.13222\n",
      "✅ Saved submission: C:\\Users\\hienm\\OneDrive\\Desktop\\Machine_Learning_2025-2026\\challange2\\submission\\submission_randomforest.csv\n",
      "\n"
     ]
    },
    {
     "data": {
      "text/plain": [
       "np.float64(0.13221600361872424)"
      ]
     },
     "execution_count": 52,
     "metadata": {},
     "output_type": "execute_result"
    }
   ],
   "source": [
    "rf_model = RandomForestRegressor(\n",
    "    n_estimators=500,\n",
    "    max_depth=15,\n",
    "    random_state=42,\n",
    "    n_jobs=-1\n",
    ")\n",
    "run_model(rf_model, \"RandomForest\", X_numeric, y, X_test_numeric)\n"
   ]
  },
  {
   "cell_type": "markdown",
   "id": "04055fab",
   "metadata": {},
   "source": [
    "## XGBoost"
   ]
  },
  {
   "cell_type": "code",
   "execution_count": 53,
   "id": "f28083df",
   "metadata": {},
   "outputs": [
    {
     "name": "stdout",
     "output_type": "stream",
     "text": [
      "\n",
      "=== XGBOOST ===\n",
      "Fold 1: RMSE = 0.11325\n",
      "Fold 2: RMSE = 0.13012\n",
      "Fold 3: RMSE = 0.14234\n",
      "Fold 4: RMSE = 0.09844\n",
      "Fold 5: RMSE = 0.11562\n",
      "→ XGBoost CV RMSE = 0.12089\n",
      "✅ Saved submission: C:\\Users\\hienm\\OneDrive\\Desktop\\Machine_Learning_2025-2026\\challange2\\submission\\submission_xgboost.csv\n",
      "\n"
     ]
    },
    {
     "data": {
      "text/plain": [
       "np.float64(0.12088606585097937)"
      ]
     },
     "execution_count": 53,
     "metadata": {},
     "output_type": "execute_result"
    }
   ],
   "source": [
    "xgb_model = XGBRegressor(\n",
    "    n_estimators=500,\n",
    "    learning_rate=0.05,\n",
    "    max_depth=4,\n",
    "    subsample=0.8,\n",
    "    colsample_bytree=0.8,\n",
    "    random_state=42,\n",
    "    n_jobs=-1,\n",
    "    tree_method=\"hist\"\n",
    ")\n",
    "# Use the numeric-only dataframes (created earlier) to avoid object dtype errors\n",
    "run_model(xgb_model, \"XGBoost\", X_numeric, y, X_test_numeric)\n"
   ]
  },
  {
   "cell_type": "markdown",
   "id": "e6c9dd71",
   "metadata": {},
   "source": [
    "## Gradient_Boosting"
   ]
  },
  {
   "cell_type": "code",
   "execution_count": 54,
   "id": "1eb85a59",
   "metadata": {},
   "outputs": [
    {
     "name": "stdout",
     "output_type": "stream",
     "text": [
      "\n",
      "=== GRADIENTBOOST ===\n",
      "Fold 1: RMSE = 0.12170\n",
      "Fold 2: RMSE = 0.12541\n",
      "Fold 3: RMSE = 0.14715\n",
      "Fold 4: RMSE = 0.09964\n",
      "Fold 5: RMSE = 0.11896\n",
      "→ GradientBoost CV RMSE = 0.12351\n",
      "✅ Saved submission: C:\\Users\\hienm\\OneDrive\\Desktop\\Machine_Learning_2025-2026\\challange2\\submission\\submission_gradientboost.csv\n",
      "\n"
     ]
    },
    {
     "data": {
      "text/plain": [
       "np.float64(0.12350681305305346)"
      ]
     },
     "execution_count": 54,
     "metadata": {},
     "output_type": "execute_result"
    }
   ],
   "source": [
    "gb_model = GradientBoostingRegressor(\n",
    "    n_estimators=300,\n",
    "    learning_rate=0.05,\n",
    "    max_depth=4,\n",
    "    random_state=42\n",
    ")\n",
    "run_model(gb_model, \"GradientBoost\", X_numeric, y, X_test_numeric)\n"
   ]
  },
  {
   "cell_type": "markdown",
   "id": "9529eb7d",
   "metadata": {},
   "source": [
    "## Ridge_Regression"
   ]
  },
  {
   "cell_type": "code",
   "execution_count": 55,
   "id": "18273c45",
   "metadata": {},
   "outputs": [
    {
     "name": "stdout",
     "output_type": "stream",
     "text": [
      "\n",
      "=== RIDGE ===\n",
      "Fold 1: RMSE = 0.10814\n",
      "Fold 2: RMSE = 0.11594\n",
      "Fold 3: RMSE = 0.13720\n",
      "Fold 4: RMSE = 0.09571\n",
      "Fold 5: RMSE = 0.11090\n",
      "→ Ridge CV RMSE = 0.11438\n",
      "✅ Saved submission: C:\\Users\\hienm\\OneDrive\\Desktop\\Machine_Learning_2025-2026\\challange2\\submission\\submission_ridge.csv\n",
      "\n"
     ]
    },
    {
     "data": {
      "text/plain": [
       "np.float64(0.11437949351840948)"
      ]
     },
     "execution_count": 55,
     "metadata": {},
     "output_type": "execute_result"
    }
   ],
   "source": [
    "ridge_model = Ridge(alpha=10)\n",
    "run_model(ridge_model, \"Ridge\", X_numeric, y, X_test_numeric)\n"
   ]
  },
  {
   "cell_type": "markdown",
   "id": "ebb4148c",
   "metadata": {},
   "source": [
    "## Lasso_Regression"
   ]
  },
  {
   "cell_type": "code",
   "execution_count": 56,
   "id": "ef6523ca",
   "metadata": {},
   "outputs": [
    {
     "name": "stdout",
     "output_type": "stream",
     "text": [
      "\n",
      "=== LASSO ===\n"
     ]
    },
    {
     "name": "stderr",
     "output_type": "stream",
     "text": [
      "C:\\Users\\hienm\\AppData\\Roaming\\Python\\Python313\\site-packages\\sklearn\\linear_model\\_coordinate_descent.py:695: ConvergenceWarning: Objective did not converge. You might want to increase the number of iterations, check the scale of the features or consider increasing regularisation. Duality gap: 4.015e+00, tolerance: 1.117e-02\n",
      "  model = cd_fast.enet_coordinate_descent(\n"
     ]
    },
    {
     "name": "stdout",
     "output_type": "stream",
     "text": [
      "Fold 1: RMSE = 0.10859\n"
     ]
    },
    {
     "name": "stderr",
     "output_type": "stream",
     "text": [
      "C:\\Users\\hienm\\AppData\\Roaming\\Python\\Python313\\site-packages\\sklearn\\linear_model\\_coordinate_descent.py:695: ConvergenceWarning: Objective did not converge. You might want to increase the number of iterations, check the scale of the features or consider increasing regularisation. Duality gap: 3.015e+00, tolerance: 1.142e-02\n",
      "  model = cd_fast.enet_coordinate_descent(\n"
     ]
    },
    {
     "name": "stdout",
     "output_type": "stream",
     "text": [
      "Fold 2: RMSE = 0.11732\n"
     ]
    },
    {
     "name": "stderr",
     "output_type": "stream",
     "text": [
      "C:\\Users\\hienm\\AppData\\Roaming\\Python\\Python313\\site-packages\\sklearn\\linear_model\\_coordinate_descent.py:695: ConvergenceWarning: Objective did not converge. You might want to increase the number of iterations, check the scale of the features or consider increasing regularisation. Duality gap: 8.374e-01, tolerance: 1.123e-02\n",
      "  model = cd_fast.enet_coordinate_descent(\n"
     ]
    },
    {
     "name": "stdout",
     "output_type": "stream",
     "text": [
      "Fold 3: RMSE = 0.13739\n",
      "Fold 4: RMSE = 0.09662\n",
      "Fold 5: RMSE = 0.11148\n",
      "→ Lasso CV RMSE = 0.11505\n",
      "✅ Saved submission: C:\\Users\\hienm\\OneDrive\\Desktop\\Machine_Learning_2025-2026\\challange2\\submission\\submission_lasso.csv\n",
      "\n"
     ]
    },
    {
     "name": "stderr",
     "output_type": "stream",
     "text": [
      "C:\\Users\\hienm\\AppData\\Roaming\\Python\\Python313\\site-packages\\sklearn\\linear_model\\_coordinate_descent.py:695: ConvergenceWarning: Objective did not converge. You might want to increase the number of iterations, check the scale of the features or consider increasing regularisation. Duality gap: 3.064e+00, tolerance: 1.148e-02\n",
      "  model = cd_fast.enet_coordinate_descent(\n"
     ]
    },
    {
     "data": {
      "text/plain": [
       "np.float64(0.11505338644867297)"
      ]
     },
     "execution_count": 56,
     "metadata": {},
     "output_type": "execute_result"
    }
   ],
   "source": [
    "lasso_model = Lasso(alpha=0.0005, max_iter=10000)\n",
    "run_model(lasso_model, \"Lasso\", X_numeric, y, X_test_numeric)\n"
   ]
  },
  {
   "cell_type": "markdown",
   "id": "4b977d66",
   "metadata": {},
   "source": [
    "## ElasticNet Regression"
   ]
  },
  {
   "cell_type": "code",
   "execution_count": 57,
   "id": "1132abd5",
   "metadata": {},
   "outputs": [
    {
     "name": "stdout",
     "output_type": "stream",
     "text": [
      "\n",
      "=== ELASTICNET ===\n"
     ]
    },
    {
     "name": "stderr",
     "output_type": "stream",
     "text": [
      "C:\\Users\\hienm\\AppData\\Roaming\\Python\\Python313\\site-packages\\sklearn\\linear_model\\_coordinate_descent.py:695: ConvergenceWarning: Objective did not converge. You might want to increase the number of iterations, check the scale of the features or consider increasing regularisation. Duality gap: 4.628e+00, tolerance: 1.117e-02\n",
      "  model = cd_fast.enet_coordinate_descent(\n"
     ]
    },
    {
     "name": "stdout",
     "output_type": "stream",
     "text": [
      "Fold 1: RMSE = 0.10829\n"
     ]
    },
    {
     "name": "stderr",
     "output_type": "stream",
     "text": [
      "C:\\Users\\hienm\\AppData\\Roaming\\Python\\Python313\\site-packages\\sklearn\\linear_model\\_coordinate_descent.py:695: ConvergenceWarning: Objective did not converge. You might want to increase the number of iterations, check the scale of the features or consider increasing regularisation. Duality gap: 2.975e+00, tolerance: 1.142e-02\n",
      "  model = cd_fast.enet_coordinate_descent(\n"
     ]
    },
    {
     "name": "stdout",
     "output_type": "stream",
     "text": [
      "Fold 2: RMSE = 0.11608\n"
     ]
    },
    {
     "name": "stderr",
     "output_type": "stream",
     "text": [
      "C:\\Users\\hienm\\AppData\\Roaming\\Python\\Python313\\site-packages\\sklearn\\linear_model\\_coordinate_descent.py:695: ConvergenceWarning: Objective did not converge. You might want to increase the number of iterations, check the scale of the features or consider increasing regularisation. Duality gap: 2.823e+00, tolerance: 1.123e-02\n",
      "  model = cd_fast.enet_coordinate_descent(\n"
     ]
    },
    {
     "name": "stdout",
     "output_type": "stream",
     "text": [
      "Fold 3: RMSE = 0.13690\n",
      "Fold 4: RMSE = 0.09667\n",
      "Fold 5: RMSE = 0.11095\n",
      "→ ElasticNet CV RMSE = 0.11453\n",
      "✅ Saved submission: C:\\Users\\hienm\\OneDrive\\Desktop\\Machine_Learning_2025-2026\\challange2\\submission\\submission_elasticnet.csv\n",
      "\n"
     ]
    },
    {
     "name": "stderr",
     "output_type": "stream",
     "text": [
      "C:\\Users\\hienm\\AppData\\Roaming\\Python\\Python313\\site-packages\\sklearn\\linear_model\\_coordinate_descent.py:695: ConvergenceWarning: Objective did not converge. You might want to increase the number of iterations, check the scale of the features or consider increasing regularisation. Duality gap: 4.275e+00, tolerance: 1.148e-02\n",
      "  model = cd_fast.enet_coordinate_descent(\n"
     ]
    },
    {
     "data": {
      "text/plain": [
       "np.float64(0.11453356786134798)"
      ]
     },
     "execution_count": 57,
     "metadata": {},
     "output_type": "execute_result"
    }
   ],
   "source": [
    "elastic_model = ElasticNet(alpha=0.0005, l1_ratio=0.7, max_iter=10000)\n",
    "run_model(elastic_model, \"ElasticNet\", X_numeric, y, X_test_numeric)\n"
   ]
  }
 ],
 "metadata": {
  "kernelspec": {
   "display_name": "Python 3",
   "language": "python",
   "name": "python3"
  },
  "language_info": {
   "codemirror_mode": {
    "name": "ipython",
    "version": 3
   },
   "file_extension": ".py",
   "mimetype": "text/x-python",
   "name": "python",
   "nbconvert_exporter": "python",
   "pygments_lexer": "ipython3",
   "version": "3.13.2"
  }
 },
 "nbformat": 4,
 "nbformat_minor": 5
}
