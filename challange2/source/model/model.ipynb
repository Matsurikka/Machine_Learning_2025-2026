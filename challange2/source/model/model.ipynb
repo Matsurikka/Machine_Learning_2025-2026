{
 "cells": [
  {
   "cell_type": "markdown",
   "id": "f3c56b69",
   "metadata": {},
   "source": [
    "# Đây là nơi để test các model và đưa ra kết quả cho từng model, tổng hợp toàn bộ chúng vào file submission để submit lên Kaggle nhằm kiểm chứng chi tiết từng model"
   ]
  }
 ],
 "metadata": {
  "language_info": {
   "name": "python"
  }
 },
 "nbformat": 4,
 "nbformat_minor": 5
}
